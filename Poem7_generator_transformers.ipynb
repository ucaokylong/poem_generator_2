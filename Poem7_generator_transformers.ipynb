{
  "cells": [
    {
      "cell_type": "markdown",
      "metadata": {
        "id": "view-in-github",
        "colab_type": "text"
      },
      "source": [
        "<a href=\"https://colab.research.google.com/github/ucaokylong/poem_generator_2/blob/main/Poem7_generator_transformers.ipynb\" target=\"_parent\"><img src=\"https://colab.research.google.com/assets/colab-badge.svg\" alt=\"Open In Colab\"/></a>"
      ]
    },
    {
      "cell_type": "markdown",
      "source": [
        "## **0. Tải bộ dữ liệu**\n",
        "**Lưu ý:** Nếu không thể tải bằng gdown do bị giới hạn số lượt tải, các bạn hãy tải thủ công và đưa lên drive của mình, sau đó copy từ drive vào colab.\n",
        "```python\n",
        "from google.colab import drive\n",
        "\n",
        "drive.mount('/content/drive')\n",
        "!cp /path/to/dataset/on/your/drive .\n",
        "```"
      ],
      "metadata": {
        "id": "EG4pEApweeMi"
      }
    },
    {
      "cell_type": "code",
      "source": [
        "from google.colab import drive\n",
        "\n",
        "drive.mount('/content/drive')\n",
        "!cp /path/to/dataset/on/your/drive "
      ],
      "metadata": {
        "colab": {
          "base_uri": "https://localhost:8080/"
        },
        "id": "NsuG_hPp59lt",
        "outputId": "2e827208-6c89-4342-9e42-da4b63150564"
      },
      "execution_count": null,
      "outputs": [
        {
          "output_type": "stream",
          "name": "stdout",
          "text": [
            "Mounted at /content/drive\n",
            "cp: missing destination file operand after '/path/to/dataset/on/your/drive'\n",
            "Try 'cp --help' for more information.\n"
          ]
        }
      ]
    },
    {
      "cell_type": "code",
      "source": [
        "# https://drive.google.com/file/d/1DlJY6ySqSZZEUgiOqL2uCkKagt5bP3MN/view?usp=share_link\n",
        "!gdown --id 1c066fEbDP5ZMDJhukYhFRITnu4ZZcLxb"
      ],
      "metadata": {
        "colab": {
          "base_uri": "https://localhost:8080/"
        },
        "id": "V2H_gNugelj6",
        "outputId": "b9779cb3-22f0-4288-c940-7b5f99f89ca6"
      },
      "execution_count": null,
      "outputs": [
        {
          "output_type": "stream",
          "name": "stdout",
          "text": [
            "/usr/local/lib/python3.8/dist-packages/gdown/cli.py:127: FutureWarning: Option `--id` was deprecated in version 4.3.1 and will be removed in 5.0. You don't need to pass it anymore to use a file ID.\n",
            "  warnings.warn(\n",
            "Access denied with the following error:\n",
            "\n",
            " \tCannot retrieve the public link of the file. You may need to change\n",
            "\tthe permission to 'Anyone with the link', or have had many accesses. \n",
            "\n",
            "You may still be able to access the file from the browser:\n",
            "\n",
            "\t https://drive.google.com/uc?id=1c066fEbDP5ZMDJhukYhFRITnu4ZZcLxb \n",
            "\n"
          ]
        }
      ]
    },
    {
      "cell_type": "code",
      "source": [
        "!unzip '/content/drive/MyDrive/AI_project/poem7_dataset.zip'"
      ],
      "metadata": {
        "colab": {
          "base_uri": "https://localhost:8080/"
        },
        "id": "7RHFkwgge2Nj",
        "outputId": "687b1a71-ca0b-4a63-d3ba-65ce56946b62"
      },
      "execution_count": null,
      "outputs": [
        {
          "output_type": "stream",
          "name": "stdout",
          "text": [
            "Archive:  /content/drive/MyDrive/AI_project/poem7_dataset.zip\n",
            "  inflating: poem7_dataset.csv       \n"
          ]
        }
      ]
    },
    {
      "cell_type": "markdown",
      "source": [
        "## **1. Import các thư viện cần thiết**"
      ],
      "metadata": {
        "id": "TSsat2oUaitv"
      }
    },
    {
      "cell_type": "code",
      "execution_count": null,
      "metadata": {
        "id": "x753CoSmVZ1G"
      },
      "outputs": [],
      "source": [
        "import os\n",
        "import numpy as np\n",
        "import pandas as pd\n",
        "import matplotlib.pyplot as plt\n",
        "import tensorflow as tf\n",
        "import re\n",
        "import random\n",
        "\n",
        "from tensorflow.keras.preprocessing.text import Tokenizer\n",
        "from tensorflow.keras.preprocessing.sequence import pad_sequences\n",
        "from nltk.translate.bleu_score import sentence_bleu, corpus_bleu\n",
        "\n",
        "RANDOM_SEED = 1\n",
        "tf.random.set_seed(RANDOM_SEED)"
      ]
    },
    {
      "cell_type": "markdown",
      "source": [
        "## **2. Chuẩn bị dữ liệu**"
      ],
      "metadata": {
        "id": "YKb5snF9aptz"
      }
    },
    {
      "cell_type": "code",
      "source": [
        "def text_normalize(text):\n",
        "    text = text.lower()\n",
        "    text = text.strip() \n",
        "    text = re.sub(r'[^\\w\\s\\n]', '', text)\n",
        "    text = text.replace('\\n\\n', '\\n')\n",
        "    text = '\\n'.join(['<start> ' + line + ' <end>' for line in text.split('\\n') if line != '' and len(line.split()) == 7  ])\n",
        " \n",
        "    return text"
      ],
      "metadata": {
        "id": "sfZ3eP0kPsi7"
      },
      "execution_count": null,
      "outputs": []
    },
    {
      "cell_type": "code",
      "source": [
        "BATCH_SIZE = 32\n",
        "MAX_SEQ_LEN = 9\n",
        "VOCAB_SIZE = 5000 "
      ],
      "metadata": {
        "id": "rxbeWccEX4RN"
      },
      "execution_count": null,
      "outputs": []
    },
    {
      "cell_type": "code",
      "source": [
        "DATASET_PATH = './poem7_dataset.csv'\n",
        "\n",
        "df = pd.read_csv(DATASET_PATH, index_col=0)\n",
        "df['content'] = df['content'].apply(lambda p: text_normalize(p))\n",
        "corpus = df['content'].to_numpy()\n",
        "\n",
        "X = []\n",
        "y = []\n",
        "for idx, row in df.iterrows():\n",
        "    lines = row['content'].split('\\n')\n",
        "    lines = [line for line in lines if line != '']\n",
        "    for idx in range(0, len(lines) - 1):\n",
        "        input_sentence = lines[idx]\n",
        "        output_sentence = lines[idx+1]\n",
        "\n",
        "        X.append(input_sentence)\n",
        "        y.append(output_sentence)"
      ],
      "metadata": {
        "id": "YjSMjEex0gOi"
      },
      "execution_count": null,
      "outputs": []
    },
    {
      "cell_type": "code",
      "source": [
        "for idx in range(len(X))[:30]:\n",
        "    print(f'Input: {X[idx]} => {y[idx]}')"
      ],
      "metadata": {
        "colab": {
          "base_uri": "https://localhost:8080/"
        },
        "id": "b68VnUSn8MMs",
        "outputId": "02795d4d-9f2f-4eb2-e060-ec4ba21fdc7d"
      },
      "execution_count": null,
      "outputs": [
        {
          "output_type": "stream",
          "name": "stdout",
          "text": [
            "Input: <start> bên đường xe tang buồn đi qua <end> => <start> chiều hôm mồ hoang sương trăng tà <end>\n",
            "Input: <start> chiều hôm mồ hoang sương trăng tà <end> => <start> vô thường đời trần thương ôi mau <end>\n",
            "Input: <start> vô thường đời trần thương ôi mau <end> => <start> người đi rồi lần sang phiên ta <end>\n",
            "Input: <start> người đi rồi lần sang phiên ta <end> => <start> nghìn xưa xa vời trong mông lung <end>\n",
            "Input: <start> nghìn xưa xa vời trong mông lung <end> => <start> tài hoa tan về nơi vô cùng <end>\n",
            "Input: <start> tài hoa tan về nơi vô cùng <end> => <start> luân hồi không cầu đường siêu thăng <end>\n",
            "Input: <start> luân hồi không cầu đường siêu thăng <end> => <start> dù cho hiền minh sao anh hùng <end>\n",
            "Input: <start> dù cho hiền minh sao anh hùng <end> => <start> hoàng hôn mây hồng in non xa <end>\n",
            "Input: <start> hoàng hôn mây hồng in non xa <end> => <start> dung hoa thầm khô theo suy già <end>\n",
            "Input: <start> dung hoa thầm khô theo suy già <end> => <start> di đà chuyên tu phòng lâm chung <end>\n",
            "Input: <start> di đà chuyên tu phòng lâm chung <end> => <start> tương tư mơ về trời liên hoa <end>\n",
            "Input: <start> mái tranh mưa tạnh ánh dương hồng <end> => <start> thoáng chốc mù che lại chẳng đồng <end>\n",
            "Input: <start> thoáng chốc mù che lại chẳng đồng <end> => <start> huống nữa mạng người trong nhịp thở <end>\n",
            "Input: <start> huống nữa mạng người trong nhịp thở <end> => <start> chuông mai còn chắc được nghe không <end>\n",
            "Input: <start> ta như cây bách buồn sau núi <end> => <start> một mình uống gió một mình say <end>\n",
            "Input: <start> một mình uống gió một mình say <end> => <start> người là một bóng chim khuê tú <end>\n",
            "Input: <start> người là một bóng chim khuê tú <end> => <start> chẳng để lại gì sau cánh bay <end>\n",
            "Input: <start> hơi thở ngưng từ đáy biển sâu <end> => <start> mênh mông sắc ảo dậy muôn màu <end>\n",
            "Input: <start> mênh mông sắc ảo dậy muôn màu <end> => <start> một trời sao nhỏ xoay khung cửa <end>\n",
            "Input: <start> một trời sao nhỏ xoay khung cửa <end> => <start> khoảnh khắc thiên hà ánh hỏa châu <end>\n",
            "Input: <start> chân dép lốp bay vào vũ trụ <end> => <start> khi trở về ta lại là ta <end>\n",
            "Input: <start> khi trở về ta lại là ta <end> => <start> từ ấy tim tôi ngừng tiếng hát <end>\n",
            "Input: <start> từ ấy tim tôi ngừng tiếng hát <end> => <start> trông về việc bắc tít mù mây <end>\n",
            "Input: <start> trông về việc bắc tít mù mây <end> => <start> nhà càng lộng gió thơ càng nhạt <end>\n",
            "Input: <start> nhà càng lộng gió thơ càng nhạt <end> => <start> máu ở chiến trường hoa ở đây <end>\n",
            "Input: <start> ơ nhỉ vầng khuya ai thả lên <end> => <start> vàng tơ la lả lặng bên thềm <end>\n",
            "Input: <start> vàng tơ la lả lặng bên thềm <end> => <start> mơ hồ khoác cánh lang thang gió <end>\n",
            "Input: <start> mơ hồ khoác cánh lang thang gió <end> => <start> ngắt mảnh trăng liềm ướp nụ êm <end>\n",
            "Input: <start> anh biết em đi chẳng trở về <end> => <start> dặm ngàn liễu khuất với sương che <end>\n",
            "Input: <start> dặm ngàn liễu khuất với sương che <end> => <start> em đừng quay lại nhìn anh nữa <end>\n"
          ]
        }
      ]
    },
    {
      "cell_type": "code",
      "source": [
        "tokenizer = Tokenizer(num_words=VOCAB_SIZE, filters='', oov_token=\"<OOV>\")\n",
        "tokenizer.fit_on_texts(corpus)\n",
        "\n",
        "VOCAB_SIZE = len(tokenizer.word_index) + 1"
      ],
      "metadata": {
        "id": "IL4WgUmxYNHE"
      },
      "execution_count": null,
      "outputs": []
    },
    {
      "cell_type": "code",
      "source": [
        "def prepare_output_sequences(y_sequences):\n",
        "    y_inputs = pad_sequences([y_seq[:-1] for y_seq in y_sequences], maxlen=MAX_SEQ_LEN, truncating='pre', padding='post')\n",
        "    y_outputs = pad_sequences([y_seq[1:] for y_seq in y_sequences], maxlen=MAX_SEQ_LEN, truncating='pre', padding='post')\n",
        "\n",
        "    return y_inputs, y_outputs\n",
        "\n",
        "X_sequences = tokenizer.texts_to_sequences(X)\n",
        "X_padded_sequences = pad_sequences(X_sequences, maxlen=MAX_SEQ_LEN, truncating='pre', padding='post')\n",
        "\n",
        "y_sequences = tokenizer.texts_to_sequences(y)\n",
        "y_inputs, y_outputs = prepare_output_sequences(y_sequences)"
      ],
      "metadata": {
        "id": "wTRt_zk3Ok-n"
      },
      "execution_count": null,
      "outputs": []
    },
    {
      "cell_type": "code",
      "source": [
        "n_samples = len(X_padded_sequences)\n",
        "train_len = int(n_samples * 0.7)\n",
        "val_len = int(n_samples * 0.2)\n",
        "test_len = n_samples - train_len - val_len\n",
        "\n",
        "# Shuffle \n",
        "np.random.seed(1)\n",
        "idxs = np.arange(n_samples)\n",
        "idxs = np.random.permutation(idxs)\n",
        "\n",
        "X_padded_sequences = X_padded_sequences[idxs]\n",
        "y_inputs = y_inputs[idxs]\n",
        "y_outputs = y_outputs[idxs]\n",
        "\n",
        "# Split the data into train, validation, and test sets\n",
        "X_train_seq, y_train_input, y_train_output = X_padded_sequences[:train_len], y_inputs[:train_len], y_outputs[:train_len]\n",
        "X_val_seq, y_val_input, y_val_output = X_padded_sequences[train_len:train_len+val_len], y_inputs[train_len:train_len+val_len], y_outputs[train_len:train_len+val_len]\n",
        "X_test_seq, y_test_input, y_test_output = X_padded_sequences[train_len+val_len:], y_inputs[train_len+val_len:], y_outputs[train_len+val_len:]"
      ],
      "metadata": {
        "id": "xGmWikjMS1ah"
      },
      "execution_count": null,
      "outputs": []
    },
    {
      "cell_type": "code",
      "source": [
        "train_ds = tf.data.Dataset.from_tensor_slices(((X_train_seq, y_train_input), y_train_output)).batch(BATCH_SIZE)\n",
        "val_ds = tf.data.Dataset.from_tensor_slices(((X_val_seq, y_val_input), y_val_output)).batch(BATCH_SIZE)\n",
        "test_ds = tf.data.Dataset.from_tensor_slices(((X_test_seq, y_test_input), y_test_output)).batch(BATCH_SIZE)\n",
        "\n",
        "AUTOTUNE = tf.data.AUTOTUNE\n",
        "\n",
        "train_ds = train_ds.cache().prefetch(buffer_size=AUTOTUNE)\n",
        "val_ds = val_ds.cache().prefetch(buffer_size=AUTOTUNE)\n",
        "test_ds = test_ds.cache().prefetch(buffer_size=AUTOTUNE)"
      ],
      "metadata": {
        "id": "onM2jAEBte9v"
      },
      "execution_count": null,
      "outputs": []
    },
    {
      "cell_type": "markdown",
      "source": [
        "## **3. Xây dựng mô hình**"
      ],
      "metadata": {
        "id": "iBYXRSW8at00"
      }
    },
    {
      "cell_type": "markdown",
      "source": [
        "### 3.1. Positional Encoding Layer"
      ],
      "metadata": {
        "id": "eVEKM0CM3Awi"
      }
    },
    {
      "cell_type": "code",
      "source": [
        "def positional_encoding(length, depth):\n",
        "    depth = depth/2\n",
        "\n",
        "    positions = np.arange(length)[:, np.newaxis]     # (seq, 1)\n",
        "    depths = np.arange(depth)[np.newaxis, :]/depth   # (1, depth)\n",
        "\n",
        "    angle_rates = 1 / (10000**depths)         # (1, depth)\n",
        "    angle_rads = positions * angle_rates      # (pos, depth)\n",
        "\n",
        "    pos_encoding = np.concatenate(\n",
        "        [np.sin(angle_rads), np.cos(angle_rads)],\n",
        "        axis=-1) \n",
        "\n",
        "    return tf.cast(pos_encoding, dtype=tf.float32)\n",
        "\n",
        "class PositionalEmbedding(tf.keras.layers.Layer):\n",
        "    def __init__(self, vocab_size, d_model):\n",
        "        super().__init__()\n",
        "        self.d_model = d_model\n",
        "        self.embedding = tf.keras.layers.Embedding(vocab_size, d_model, mask_zero=True) \n",
        "        self.pos_encoding = positional_encoding(length=2048, depth=d_model)\n",
        "\n",
        "    def compute_mask(self, *args, **kwargs):\n",
        "        return self.embedding.compute_mask(*args, **kwargs)\n",
        "\n",
        "    def call(self, x):\n",
        "        length = tf.shape(x)[1]\n",
        "        x = self.embedding(x)\n",
        "        # This factor sets the relative scale of the embedding and positonal_encoding.\n",
        "        x *= tf.math.sqrt(tf.cast(self.d_model, tf.float32))\n",
        "        x = x + self.pos_encoding[tf.newaxis, :length, :]\n",
        "        return x"
      ],
      "metadata": {
        "id": "nEFbBsLs2q95"
      },
      "execution_count": null,
      "outputs": []
    },
    {
      "cell_type": "markdown",
      "source": [
        "### 3.2. Self-attention Layer"
      ],
      "metadata": {
        "id": "qdPLnIH-3GYU"
      }
    },
    {
      "cell_type": "code",
      "source": [
        "class BaseAttention(tf.keras.layers.Layer):\n",
        "    def __init__(self, **kwargs):\n",
        "        super().__init__()\n",
        "        self.mha = tf.keras.layers.MultiHeadAttention(**kwargs)\n",
        "        self.layernorm = tf.keras.layers.LayerNormalization()\n",
        "        self.add = tf.keras.layers.Add()"
      ],
      "metadata": {
        "id": "YXfYIWvB3o61"
      },
      "execution_count": null,
      "outputs": []
    },
    {
      "cell_type": "markdown",
      "source": [
        "### 3.3. Cross-attention Layer"
      ],
      "metadata": {
        "id": "__oPvUVi64cq"
      }
    },
    {
      "cell_type": "code",
      "source": [
        "class CrossAttention(BaseAttention):\n",
        "    def call(self, x, context):\n",
        "        attn_output, attn_scores = self.mha(\n",
        "            query=x,\n",
        "            key=context,\n",
        "            value=context,\n",
        "            return_attention_scores=True)\n",
        "\n",
        "        # Cache the attention scores for plotting later.\n",
        "        self.last_attn_scores = attn_scores\n",
        "\n",
        "        x = self.add([x, attn_output])\n",
        "        x = self.layernorm(x)\n",
        "\n",
        "        return x"
      ],
      "metadata": {
        "id": "XBdDhRKe66sq"
      },
      "execution_count": null,
      "outputs": []
    },
    {
      "cell_type": "markdown",
      "source": [
        "### 3.4. Global Self-attention Layer"
      ],
      "metadata": {
        "id": "wg1LFsNp78yP"
      }
    },
    {
      "cell_type": "code",
      "source": [
        "class GlobalSelfAttention(BaseAttention):\n",
        "    def call(self, x):\n",
        "        attn_output = self.mha(\n",
        "            query=x,\n",
        "            value=x,\n",
        "            key=x)\n",
        "        x = self.add([x, attn_output])\n",
        "        x = self.layernorm(x)\n",
        "        \n",
        "        return x"
      ],
      "metadata": {
        "id": "cC5m3n_e8Aav"
      },
      "execution_count": null,
      "outputs": []
    },
    {
      "cell_type": "markdown",
      "source": [
        "### 3.5. Causal Self-attention Layer"
      ],
      "metadata": {
        "id": "LFu2uQl982cm"
      }
    },
    {
      "cell_type": "code",
      "source": [
        "class CausalSelfAttention(BaseAttention):\n",
        "    def call(self, x):\n",
        "        attn_output = self.mha(\n",
        "            query=x,\n",
        "            value=x,\n",
        "            key=x,\n",
        "            use_causal_mask = True)\n",
        "        x = self.add([x, attn_output])\n",
        "        x = self.layernorm(x)\n",
        "        \n",
        "        return x"
      ],
      "metadata": {
        "id": "0ATiokle85ka"
      },
      "execution_count": null,
      "outputs": []
    },
    {
      "cell_type": "markdown",
      "source": [
        "### 3.6. Feed-forward Network"
      ],
      "metadata": {
        "id": "0eYYZ4gm9RRp"
      }
    },
    {
      "cell_type": "code",
      "source": [
        "class FeedForward(tf.keras.layers.Layer):\n",
        "    def __init__(self, d_model, dff, dropout_rate=0.1):\n",
        "        super().__init__()\n",
        "        self.seq = tf.keras.Sequential([\n",
        "        tf.keras.layers.Dense(dff, activation='relu'),\n",
        "        tf.keras.layers.Dense(d_model),\n",
        "        tf.keras.layers.Dropout(dropout_rate)\n",
        "        ])\n",
        "        self.add = tf.keras.layers.Add()\n",
        "        self.layer_norm = tf.keras.layers.LayerNormalization()\n",
        "\n",
        "    def call(self, x):\n",
        "        x = self.add([x, self.seq(x)])\n",
        "        x = self.layer_norm(x) \n",
        "        return x"
      ],
      "metadata": {
        "id": "PW0fyG119UvS"
      },
      "execution_count": null,
      "outputs": []
    },
    {
      "cell_type": "markdown",
      "source": [
        "### 3.7. Encoder Layer"
      ],
      "metadata": {
        "id": "MRooqf4a9lxq"
      }
    },
    {
      "cell_type": "code",
      "source": [
        "class EncoderLayer(tf.keras.layers.Layer):\n",
        "    def __init__(self,*, d_model, num_heads, dff, dropout_rate=0.1):\n",
        "        super().__init__()\n",
        "\n",
        "        self.self_attention = GlobalSelfAttention(\n",
        "            num_heads=num_heads,\n",
        "            key_dim=d_model,\n",
        "            dropout=dropout_rate)\n",
        "\n",
        "        self.ffn = FeedForward(d_model, dff)\n",
        "\n",
        "    def call(self, x):\n",
        "        x = self.self_attention(x)\n",
        "        x = self.ffn(x)\n",
        "        return x"
      ],
      "metadata": {
        "id": "QV894jTV9oul"
      },
      "execution_count": null,
      "outputs": []
    },
    {
      "cell_type": "markdown",
      "source": [
        "### 3.8. Transformer Encoder"
      ],
      "metadata": {
        "id": "9zrYsImw914U"
      }
    },
    {
      "cell_type": "code",
      "source": [
        "class Encoder(tf.keras.layers.Layer):\n",
        "    def __init__(self, *, num_layers, d_model, num_heads,\n",
        "                dff, vocab_size, dropout_rate=0.1):\n",
        "        super().__init__()\n",
        "\n",
        "        self.d_model = d_model\n",
        "        self.num_layers = num_layers\n",
        "\n",
        "        self.pos_embedding = PositionalEmbedding(\n",
        "            vocab_size=vocab_size, d_model=d_model)\n",
        "\n",
        "        self.enc_layers = [\n",
        "            EncoderLayer(d_model=d_model,\n",
        "                        num_heads=num_heads,\n",
        "                        dff=dff,\n",
        "                        dropout_rate=dropout_rate)\n",
        "            for _ in range(num_layers)]\n",
        "        self.dropout = tf.keras.layers.Dropout(dropout_rate)\n",
        "\n",
        "    def call(self, x):\n",
        "        # `x` is token-IDs shape: (batch, seq_len)\n",
        "        x = self.pos_embedding(x)  # Shape `(batch_size, seq_len, d_model)`.\n",
        "\n",
        "        # Add dropout.\n",
        "        x = self.dropout(x)\n",
        "\n",
        "        for i in range(self.num_layers):\n",
        "            x = self.enc_layers[i](x)\n",
        "\n",
        "        return x  # Shape `(batch_size, seq_len, d_model)`."
      ],
      "metadata": {
        "id": "9HA14C_N94qX"
      },
      "execution_count": null,
      "outputs": []
    },
    {
      "cell_type": "markdown",
      "source": [
        "### 3.9. Decoder Layer"
      ],
      "metadata": {
        "id": "CZdo9DtV96VM"
      }
    },
    {
      "cell_type": "code",
      "source": [
        "class DecoderLayer(tf.keras.layers.Layer):\n",
        "    def __init__(self,\n",
        "                *,\n",
        "                d_model,\n",
        "                num_heads,\n",
        "                dff,\n",
        "                dropout_rate=0.1):\n",
        "        super(DecoderLayer, self).__init__()\n",
        "\n",
        "        self.causal_self_attention = CausalSelfAttention(\n",
        "            num_heads=num_heads,\n",
        "            key_dim=d_model,\n",
        "            dropout=dropout_rate)\n",
        "\n",
        "        self.cross_attention = CrossAttention(\n",
        "            num_heads=num_heads,\n",
        "            key_dim=d_model,\n",
        "            dropout=dropout_rate)\n",
        "\n",
        "        self.ffn = FeedForward(d_model, dff)\n",
        "\n",
        "    def call(self, x, context):\n",
        "        x = self.causal_self_attention(x=x)\n",
        "        x = self.cross_attention(x=x, context=context)\n",
        "\n",
        "        # Cache the last attention scores for plotting later\n",
        "        self.last_attn_scores = self.cross_attention.last_attn_scores\n",
        "\n",
        "        x = self.ffn(x)  # Shape `(batch_size, seq_len, d_model)`.\n",
        "        return x"
      ],
      "metadata": {
        "id": "WKygFk7094vN"
      },
      "execution_count": null,
      "outputs": []
    },
    {
      "cell_type": "markdown",
      "source": [
        "### 3.10. Transformer Decoder"
      ],
      "metadata": {
        "id": "MCoNtShU-Tmn"
      }
    },
    {
      "cell_type": "code",
      "source": [
        "class Decoder(tf.keras.layers.Layer):\n",
        "    def __init__(self, *, num_layers, d_model, num_heads, dff, vocab_size,\n",
        "                dropout_rate=0.1):\n",
        "        super(Decoder, self).__init__()\n",
        "\n",
        "        self.d_model = d_model\n",
        "        self.num_layers = num_layers\n",
        "\n",
        "        self.pos_embedding = PositionalEmbedding(vocab_size=vocab_size,\n",
        "                                                d_model=d_model)\n",
        "        self.dropout = tf.keras.layers.Dropout(dropout_rate)\n",
        "        self.dec_layers = [\n",
        "            DecoderLayer(d_model=d_model, num_heads=num_heads,\n",
        "                        dff=dff, dropout_rate=dropout_rate)\n",
        "            for _ in range(num_layers)]\n",
        "\n",
        "        self.last_attn_scores = None\n",
        "\n",
        "    def call(self, x, context):\n",
        "        # `x` is token-IDs shape (batch, target_seq_len)\n",
        "        x = self.pos_embedding(x)  # (batch_size, target_seq_len, d_model)\n",
        "\n",
        "        x = self.dropout(x)\n",
        "\n",
        "        for i in range(self.num_layers):\n",
        "            x  = self.dec_layers[i](x, context)\n",
        "\n",
        "        self.last_attn_scores = self.dec_layers[-1].last_attn_scores\n",
        "\n",
        "        # The shape of x is (batch_size, target_seq_len, d_model).\n",
        "        return x"
      ],
      "metadata": {
        "id": "SYSo3-DB-Vy_"
      },
      "execution_count": null,
      "outputs": []
    },
    {
      "cell_type": "markdown",
      "source": [
        "### 3.11. Transformer Model"
      ],
      "metadata": {
        "id": "4WHwb3e3-3ds"
      }
    },
    {
      "cell_type": "code",
      "source": [
        "class Transformer(tf.keras.Model):\n",
        "    def __init__(self, *, num_layers, d_model, num_heads, dff,\n",
        "                vocab_size, dropout_rate=0.1):\n",
        "        super().__init__()\n",
        "        self.encoder = Encoder(num_layers=num_layers, d_model=d_model,\n",
        "                            num_heads=num_heads, dff=dff,\n",
        "                            vocab_size=vocab_size,\n",
        "                            dropout_rate=dropout_rate)\n",
        "\n",
        "        self.decoder = Decoder(num_layers=num_layers, d_model=d_model,\n",
        "                            num_heads=num_heads, dff=dff,\n",
        "                            vocab_size=vocab_size,\n",
        "                            dropout_rate=dropout_rate)\n",
        "\n",
        "        self.final_layer = tf.keras.layers.Dense(vocab_size)\n",
        "\n",
        "    def call(self, inputs):\n",
        "        # To use a Keras model with `.fit` you must pass all your inputs in the\n",
        "        # first argument.\n",
        "        context, x  = inputs\n",
        "\n",
        "        context = self.encoder(context)  # (batch_size, context_len, d_model)\n",
        "\n",
        "        x = self.decoder(x, context)  # (batch_size, target_len, d_model)\n",
        "\n",
        "        # Final linear layer output.\n",
        "        logits = self.final_layer(x)  # (batch_size, target_len, target_vocab_size)\n",
        "\n",
        "        try:\n",
        "            # Drop the keras mask, so it doesn't scale the losses/metrics.\n",
        "            # b/250038731\n",
        "            del logits._keras_mask\n",
        "        except AttributeError:\n",
        "            pass\n",
        "\n",
        "        # Return the final output and the attention weights.\n",
        "        return logits"
      ],
      "metadata": {
        "id": "bc8lJ0g5-5n7"
      },
      "execution_count": null,
      "outputs": []
    },
    {
      "cell_type": "code",
      "source": [
        "N_LAYERS = 4\n",
        "D_MODEL = 128\n",
        "D_FF = 512\n",
        "N_HEADS = 8\n",
        "DROPOUT_RATE = 0.2"
      ],
      "metadata": {
        "id": "45nTAWsWPSks"
      },
      "execution_count": null,
      "outputs": []
    },
    {
      "cell_type": "code",
      "source": [
        "transformer = Transformer(\n",
        "    num_layers=N_LAYERS,\n",
        "    d_model=D_MODEL,\n",
        "    num_heads=N_HEADS,\n",
        "    dff=D_FF,\n",
        "    vocab_size=VOCAB_SIZE,\n",
        "    dropout_rate=DROPOUT_RATE\n",
        ")"
      ],
      "metadata": {
        "id": "8-R7Z-7hP_em"
      },
      "execution_count": null,
      "outputs": []
    },
    {
      "cell_type": "code",
      "source": [
        "batches = train_ds.take(1)\n",
        "for batch in batches:\n",
        "    X_try, y_try = batch[0], batch[1]\n",
        "    "
      ],
      "metadata": {
        "id": "DZ-GuflyBYV0"
      },
      "execution_count": null,
      "outputs": []
    },
    {
      "cell_type": "code",
      "source": [
        "output = transformer(X_try)"
      ],
      "metadata": {
        "id": "Q1QsCOzQBDyS"
      },
      "execution_count": null,
      "outputs": []
    },
    {
      "cell_type": "code",
      "source": [
        "output.shape"
      ],
      "metadata": {
        "colab": {
          "base_uri": "https://localhost:8080/"
        },
        "id": "5e6alPQzDNCF",
        "outputId": "d9de2524-6dd8-496e-9cdc-d97be117df40"
      },
      "execution_count": null,
      "outputs": [
        {
          "output_type": "execute_result",
          "data": {
            "text/plain": [
              "TensorShape([32, 9, 357])"
            ]
          },
          "metadata": {},
          "execution_count": 30
        }
      ]
    },
    {
      "cell_type": "code",
      "source": [
        "transformer.summary()"
      ],
      "metadata": {
        "colab": {
          "base_uri": "https://localhost:8080/"
        },
        "id": "hvkV3HDv_IuC",
        "outputId": "851dd952-704e-42c2-c76d-79a05fd772bb"
      },
      "execution_count": null,
      "outputs": [
        {
          "output_type": "stream",
          "name": "stdout",
          "text": [
            "Model: \"transformer\"\n",
            "_________________________________________________________________\n",
            " Layer (type)                Output Shape              Param #   \n",
            "=================================================================\n",
            " encoder (Encoder)           multiple                  2684544   \n",
            "                                                                 \n",
            " decoder (Decoder)           multiple                  4795520   \n",
            "                                                                 \n",
            " dense_16 (Dense)            multiple                  46053     \n",
            "                                                                 \n",
            "=================================================================\n",
            "Total params: 7,526,117\n",
            "Trainable params: 7,526,117\n",
            "Non-trainable params: 0\n",
            "_________________________________________________________________\n"
          ]
        }
      ]
    },
    {
      "cell_type": "markdown",
      "source": [
        "## **4. Cấu hình mô hình**"
      ],
      "metadata": {
        "id": "YLf9DMbmbX9M"
      }
    },
    {
      "cell_type": "code",
      "source": [
        "# Khai báo một số giá trị siêu tham số\n",
        "EPOCHS = 60"
      ],
      "metadata": {
        "id": "RVY1Eo7wxmbG"
      },
      "execution_count": null,
      "outputs": []
    },
    {
      "cell_type": "code",
      "source": [
        "class CustomSchedule(tf.keras.optimizers.schedules.LearningRateSchedule):\n",
        "    def __init__(self, d_model, warmup_steps=4000):\n",
        "        super().__init__()\n",
        "\n",
        "        self.d_model = d_model\n",
        "        self.d_model = tf.cast(self.d_model, tf.float32)\n",
        "\n",
        "        self.warmup_steps = warmup_steps\n",
        "\n",
        "    def __call__(self, step):\n",
        "        step = tf.cast(step, dtype=tf.float32)\n",
        "        arg1 = tf.math.rsqrt(step)\n",
        "        arg2 = step * (self.warmup_steps ** -1.5)\n",
        "\n",
        "        return tf.math.rsqrt(self.d_model) * tf.math.minimum(arg1, arg2)"
      ],
      "metadata": {
        "id": "v-FdNRo6_U_k"
      },
      "execution_count": null,
      "outputs": []
    },
    {
      "cell_type": "code",
      "source": [
        "learning_rate = CustomSchedule(D_MODEL)\n",
        "\n",
        "optimizer = tf.keras.optimizers.Adam(\n",
        "    learning_rate, \n",
        "    beta_1=0.9, \n",
        "    beta_2=0.98,\n",
        "    epsilon=1e-9\n",
        ")"
      ],
      "metadata": {
        "id": "ed4dHZkf_XC7"
      },
      "execution_count": null,
      "outputs": []
    },
    {
      "cell_type": "code",
      "source": [
        "def masked_loss(label, pred):\n",
        "    mask = label != 0\n",
        "    loss_object = tf.keras.losses.SparseCategoricalCrossentropy(\n",
        "        from_logits=True, reduction='none')\n",
        "    loss = loss_object(label, pred)\n",
        "\n",
        "    mask = tf.cast(mask, dtype=loss.dtype)\n",
        "    loss *= mask\n",
        "\n",
        "    loss = tf.reduce_sum(loss)/tf.reduce_sum(mask)\n",
        "\n",
        "    return loss\n",
        "\n",
        "\n",
        "def masked_accuracy(label, pred):\n",
        "    pred = tf.argmax(pred, axis=2)\n",
        "    label = tf.cast(label, pred.dtype)\n",
        "    match = label == pred\n",
        "\n",
        "    mask = label != 0\n",
        "\n",
        "    match = match & mask\n",
        "\n",
        "    match = tf.cast(match, dtype=tf.float32)\n",
        "    mask = tf.cast(mask, dtype=tf.float32)\n",
        "    \n",
        "    return tf.reduce_sum(match)/tf.reduce_sum(mask)\n",
        "\n",
        "def compute_perplexity(logits, targets):\n",
        "    loss_fn = tf.keras.losses.SparseCategoricalCrossentropy(\n",
        "        from_logits=True, reduction='none')\n",
        "\n",
        "    loss = loss_fn(targets, logits)\n",
        "\n",
        "    perplexity = np.exp(np.mean(loss))\n",
        "\n",
        "    return perplexity\n",
        "\n",
        "\n",
        "def compute_bleu(predicted, targets):\n",
        "    predicted_strings = []\n",
        "    for seq in predicted:\n",
        "        seq = np.argmax(seq, axis=1)\n",
        "        string_seq = \" \".join([tokenizer.sequences_to_texts([[token]])[0] for token in seq if token != 0])\n",
        "        predicted_strings.append(string_seq)\n",
        "    target_strings = []\n",
        "    for seq in targets:\n",
        "        seq = seq.numpy().tolist()\n",
        "        string_seq = \" \".join([tokenizer.sequences_to_texts([[token]])[0] for token in seq if token != 0])\n",
        "        target_strings.append([string_seq])  \n",
        "\n",
        "    bleu_score = corpus_bleu(target_strings, predicted_strings)\n",
        "\n",
        "    return bleu_score"
      ],
      "metadata": {
        "id": "Ni0iuAHj_hLa"
      },
      "execution_count": null,
      "outputs": []
    },
    {
      "cell_type": "code",
      "source": [
        "transformer.compile(\n",
        "    loss=masked_loss,\n",
        "    optimizer=optimizer,\n",
        "    metrics=[masked_accuracy]\n",
        ")"
      ],
      "metadata": {
        "id": "cR868LBvxoZY"
      },
      "execution_count": null,
      "outputs": []
    },
    {
      "cell_type": "markdown",
      "source": [
        "## **5. Thực hiện huấn luyện**"
      ],
      "metadata": {
        "id": "3Kb90Safbc0I"
      }
    },
    {
      "cell_type": "code",
      "source": [
        "history = transformer.fit(\n",
        "    train_ds,\n",
        "    epochs=200,\n",
        "    validation_data=val_ds\n",
        ")"
      ],
      "metadata": {
        "colab": {
          "base_uri": "https://localhost:8080/"
        },
        "id": "-StpXxgExtFo",
        "outputId": "636409e5-9dc1-4bcc-917b-70d0001e8b62"
      },
      "execution_count": null,
      "outputs": [
        {
          "output_type": "stream",
          "name": "stdout",
          "text": [
            "Epoch 1/200\n",
            "2/2 [==============================] - 0s 250ms/step - loss: 4.9109 - masked_accuracy: 0.1615 - val_loss: 5.2887 - val_masked_accuracy: 0.1406\n",
            "Epoch 2/200\n",
            "2/2 [==============================] - 0s 166ms/step - loss: 4.8871 - masked_accuracy: 0.1719 - val_loss: 5.2837 - val_masked_accuracy: 0.1406\n",
            "Epoch 3/200\n",
            "2/2 [==============================] - 0s 136ms/step - loss: 4.8543 - masked_accuracy: 0.1582 - val_loss: 5.2807 - val_masked_accuracy: 0.1406\n",
            "Epoch 4/200\n",
            "2/2 [==============================] - 0s 235ms/step - loss: 4.8612 - masked_accuracy: 0.1582 - val_loss: 5.2794 - val_masked_accuracy: 0.1406\n",
            "Epoch 5/200\n",
            "2/2 [==============================] - 0s 151ms/step - loss: 4.8156 - masked_accuracy: 0.1641 - val_loss: 5.2767 - val_masked_accuracy: 0.1406\n",
            "Epoch 6/200\n",
            "2/2 [==============================] - 0s 253ms/step - loss: 4.7828 - masked_accuracy: 0.1595 - val_loss: 5.2732 - val_masked_accuracy: 0.1406\n",
            "Epoch 7/200\n",
            "2/2 [==============================] - 0s 134ms/step - loss: 4.7735 - masked_accuracy: 0.1647 - val_loss: 5.2703 - val_masked_accuracy: 0.1406\n",
            "Epoch 8/200\n",
            "2/2 [==============================] - 0s 75ms/step - loss: 4.7726 - masked_accuracy: 0.1647 - val_loss: 5.2670 - val_masked_accuracy: 0.1406\n",
            "Epoch 9/200\n",
            "2/2 [==============================] - 0s 90ms/step - loss: 4.7211 - masked_accuracy: 0.1693 - val_loss: 5.2641 - val_masked_accuracy: 0.1406\n",
            "Epoch 10/200\n",
            "2/2 [==============================] - 0s 76ms/step - loss: 4.7340 - masked_accuracy: 0.1725 - val_loss: 5.2615 - val_masked_accuracy: 0.1406\n",
            "Epoch 11/200\n",
            "2/2 [==============================] - 0s 80ms/step - loss: 4.7089 - masked_accuracy: 0.1673 - val_loss: 5.2592 - val_masked_accuracy: 0.1406\n",
            "Epoch 12/200\n",
            "2/2 [==============================] - 0s 71ms/step - loss: 4.6616 - masked_accuracy: 0.1797 - val_loss: 5.2564 - val_masked_accuracy: 0.1406\n",
            "Epoch 13/200\n",
            "2/2 [==============================] - 0s 74ms/step - loss: 4.6621 - masked_accuracy: 0.1719 - val_loss: 5.2559 - val_masked_accuracy: 0.1406\n",
            "Epoch 14/200\n",
            "2/2 [==============================] - 0s 72ms/step - loss: 4.6001 - masked_accuracy: 0.1673 - val_loss: 5.2577 - val_masked_accuracy: 0.1406\n",
            "Epoch 15/200\n",
            "2/2 [==============================] - 0s 75ms/step - loss: 4.5891 - masked_accuracy: 0.1816 - val_loss: 5.2533 - val_masked_accuracy: 0.1406\n",
            "Epoch 16/200\n",
            "2/2 [==============================] - 0s 80ms/step - loss: 4.5687 - masked_accuracy: 0.1706 - val_loss: 5.2541 - val_masked_accuracy: 0.1406\n",
            "Epoch 17/200\n",
            "2/2 [==============================] - 0s 71ms/step - loss: 4.5293 - masked_accuracy: 0.1823 - val_loss: 5.2548 - val_masked_accuracy: 0.1406\n",
            "Epoch 18/200\n",
            "2/2 [==============================] - 0s 80ms/step - loss: 4.5161 - masked_accuracy: 0.1745 - val_loss: 5.2477 - val_masked_accuracy: 0.1484\n",
            "Epoch 19/200\n",
            "2/2 [==============================] - 0s 72ms/step - loss: 4.5242 - masked_accuracy: 0.1836 - val_loss: 5.2366 - val_masked_accuracy: 0.1484\n",
            "Epoch 20/200\n",
            "2/2 [==============================] - 0s 69ms/step - loss: 4.4640 - masked_accuracy: 0.1953 - val_loss: 5.2255 - val_masked_accuracy: 0.1562\n",
            "Epoch 21/200\n",
            "2/2 [==============================] - 0s 76ms/step - loss: 4.4353 - masked_accuracy: 0.1992 - val_loss: 5.2180 - val_masked_accuracy: 0.1562\n",
            "Epoch 22/200\n",
            "2/2 [==============================] - 0s 70ms/step - loss: 4.4058 - masked_accuracy: 0.1914 - val_loss: 5.2204 - val_masked_accuracy: 0.1641\n",
            "Epoch 23/200\n",
            "2/2 [==============================] - 0s 67ms/step - loss: 4.3399 - masked_accuracy: 0.2096 - val_loss: 5.2241 - val_masked_accuracy: 0.1719\n",
            "Epoch 24/200\n",
            "2/2 [==============================] - 0s 76ms/step - loss: 4.3179 - masked_accuracy: 0.2266 - val_loss: 5.2214 - val_masked_accuracy: 0.1719\n",
            "Epoch 25/200\n",
            "2/2 [==============================] - 0s 70ms/step - loss: 4.2974 - masked_accuracy: 0.2090 - val_loss: 5.2201 - val_masked_accuracy: 0.1641\n",
            "Epoch 26/200\n",
            "2/2 [==============================] - 0s 71ms/step - loss: 4.2483 - masked_accuracy: 0.2116 - val_loss: 5.2172 - val_masked_accuracy: 0.1719\n",
            "Epoch 27/200\n",
            "2/2 [==============================] - 0s 71ms/step - loss: 4.2382 - masked_accuracy: 0.2285 - val_loss: 5.2255 - val_masked_accuracy: 0.1797\n",
            "Epoch 28/200\n",
            "2/2 [==============================] - 0s 71ms/step - loss: 4.2290 - masked_accuracy: 0.2350 - val_loss: 5.2312 - val_masked_accuracy: 0.1719\n",
            "Epoch 29/200\n",
            "2/2 [==============================] - 0s 76ms/step - loss: 4.1676 - masked_accuracy: 0.2331 - val_loss: 5.2286 - val_masked_accuracy: 0.1797\n",
            "Epoch 30/200\n",
            "2/2 [==============================] - 0s 72ms/step - loss: 4.1336 - masked_accuracy: 0.2292 - val_loss: 5.2148 - val_masked_accuracy: 0.1719\n",
            "Epoch 31/200\n",
            "2/2 [==============================] - 0s 66ms/step - loss: 4.0813 - masked_accuracy: 0.2624 - val_loss: 5.2265 - val_masked_accuracy: 0.1797\n",
            "Epoch 32/200\n",
            "2/2 [==============================] - 0s 76ms/step - loss: 4.0661 - masked_accuracy: 0.2331 - val_loss: 5.2290 - val_masked_accuracy: 0.1797\n",
            "Epoch 33/200\n",
            "2/2 [==============================] - 0s 67ms/step - loss: 4.0394 - masked_accuracy: 0.2617 - val_loss: 5.2216 - val_masked_accuracy: 0.1797\n",
            "Epoch 34/200\n",
            "2/2 [==============================] - 0s 71ms/step - loss: 4.0033 - masked_accuracy: 0.2572 - val_loss: 5.2017 - val_masked_accuracy: 0.1875\n",
            "Epoch 35/200\n",
            "2/2 [==============================] - 0s 75ms/step - loss: 3.9700 - masked_accuracy: 0.2773 - val_loss: 5.1967 - val_masked_accuracy: 0.1719\n",
            "Epoch 36/200\n",
            "2/2 [==============================] - 0s 66ms/step - loss: 3.9454 - masked_accuracy: 0.3001 - val_loss: 5.1905 - val_masked_accuracy: 0.2031\n",
            "Epoch 37/200\n",
            "2/2 [==============================] - 0s 69ms/step - loss: 3.9025 - masked_accuracy: 0.2884 - val_loss: 5.2024 - val_masked_accuracy: 0.1875\n",
            "Epoch 38/200\n",
            "2/2 [==============================] - 0s 75ms/step - loss: 3.8506 - masked_accuracy: 0.3132 - val_loss: 5.1988 - val_masked_accuracy: 0.1797\n",
            "Epoch 39/200\n",
            "2/2 [==============================] - 0s 77ms/step - loss: 3.8180 - masked_accuracy: 0.3086 - val_loss: 5.1900 - val_masked_accuracy: 0.1953\n",
            "Epoch 40/200\n",
            "2/2 [==============================] - 0s 71ms/step - loss: 3.7975 - masked_accuracy: 0.3372 - val_loss: 5.1892 - val_masked_accuracy: 0.2031\n",
            "Epoch 41/200\n",
            "2/2 [==============================] - 0s 73ms/step - loss: 3.7631 - masked_accuracy: 0.3424 - val_loss: 5.1933 - val_masked_accuracy: 0.1797\n",
            "Epoch 42/200\n",
            "2/2 [==============================] - 0s 68ms/step - loss: 3.7059 - masked_accuracy: 0.3307 - val_loss: 5.1841 - val_masked_accuracy: 0.1797\n",
            "Epoch 43/200\n",
            "2/2 [==============================] - 0s 76ms/step - loss: 3.6818 - masked_accuracy: 0.3770 - val_loss: 5.1609 - val_masked_accuracy: 0.2109\n",
            "Epoch 44/200\n",
            "2/2 [==============================] - 0s 70ms/step - loss: 3.6323 - masked_accuracy: 0.3613 - val_loss: 5.1551 - val_masked_accuracy: 0.2109\n",
            "Epoch 45/200\n",
            "2/2 [==============================] - 0s 78ms/step - loss: 3.6421 - masked_accuracy: 0.3867 - val_loss: 5.1689 - val_masked_accuracy: 0.1953\n",
            "Epoch 46/200\n",
            "2/2 [==============================] - 0s 67ms/step - loss: 3.6161 - masked_accuracy: 0.3704 - val_loss: 5.1495 - val_masked_accuracy: 0.2031\n",
            "Epoch 47/200\n",
            "2/2 [==============================] - 0s 74ms/step - loss: 3.5822 - masked_accuracy: 0.4062 - val_loss: 5.1311 - val_masked_accuracy: 0.2266\n",
            "Epoch 48/200\n",
            "2/2 [==============================] - 0s 73ms/step - loss: 3.5185 - masked_accuracy: 0.4056 - val_loss: 5.1353 - val_masked_accuracy: 0.2109\n",
            "Epoch 49/200\n",
            "2/2 [==============================] - 0s 69ms/step - loss: 3.5147 - masked_accuracy: 0.4251 - val_loss: 5.1404 - val_masked_accuracy: 0.2109\n",
            "Epoch 50/200\n",
            "2/2 [==============================] - 0s 110ms/step - loss: 3.4775 - masked_accuracy: 0.4023 - val_loss: 5.1366 - val_masked_accuracy: 0.2031\n",
            "Epoch 51/200\n",
            "2/2 [==============================] - 0s 116ms/step - loss: 3.4389 - masked_accuracy: 0.4147 - val_loss: 5.1133 - val_masked_accuracy: 0.2188\n",
            "Epoch 52/200\n",
            "2/2 [==============================] - 0s 127ms/step - loss: 3.3958 - masked_accuracy: 0.4681 - val_loss: 5.0947 - val_masked_accuracy: 0.2344\n",
            "Epoch 53/200\n",
            "2/2 [==============================] - 0s 102ms/step - loss: 3.3959 - masked_accuracy: 0.4557 - val_loss: 5.0985 - val_masked_accuracy: 0.2266\n",
            "Epoch 54/200\n",
            "2/2 [==============================] - 0s 107ms/step - loss: 3.3516 - masked_accuracy: 0.4590 - val_loss: 5.1065 - val_masked_accuracy: 0.2188\n",
            "Epoch 55/200\n",
            "2/2 [==============================] - 0s 158ms/step - loss: 3.3318 - masked_accuracy: 0.4323 - val_loss: 5.0912 - val_masked_accuracy: 0.2344\n",
            "Epoch 56/200\n",
            "2/2 [==============================] - 0s 158ms/step - loss: 3.2850 - masked_accuracy: 0.4792 - val_loss: 5.0898 - val_masked_accuracy: 0.2344\n",
            "Epoch 57/200\n",
            "2/2 [==============================] - 0s 112ms/step - loss: 3.2458 - masked_accuracy: 0.4922 - val_loss: 5.0988 - val_masked_accuracy: 0.2266\n",
            "Epoch 58/200\n",
            "2/2 [==============================] - 0s 106ms/step - loss: 3.2235 - masked_accuracy: 0.5033 - val_loss: 5.0891 - val_masked_accuracy: 0.2266\n",
            "Epoch 59/200\n",
            "2/2 [==============================] - 0s 152ms/step - loss: 3.1938 - masked_accuracy: 0.5078 - val_loss: 5.0811 - val_masked_accuracy: 0.2344\n",
            "Epoch 60/200\n",
            "2/2 [==============================] - 0s 117ms/step - loss: 3.1543 - masked_accuracy: 0.5137 - val_loss: 5.0801 - val_masked_accuracy: 0.2344\n",
            "Epoch 61/200\n",
            "2/2 [==============================] - 0s 111ms/step - loss: 3.1415 - masked_accuracy: 0.4837 - val_loss: 5.0820 - val_masked_accuracy: 0.2500\n",
            "Epoch 62/200\n",
            "2/2 [==============================] - 0s 78ms/step - loss: 3.1020 - masked_accuracy: 0.5059 - val_loss: 5.0817 - val_masked_accuracy: 0.2422\n",
            "Epoch 63/200\n",
            "2/2 [==============================] - 0s 93ms/step - loss: 3.0975 - masked_accuracy: 0.5221 - val_loss: 5.0742 - val_masked_accuracy: 0.2422\n",
            "Epoch 64/200\n",
            "2/2 [==============================] - 0s 71ms/step - loss: 3.0458 - masked_accuracy: 0.5547 - val_loss: 5.0606 - val_masked_accuracy: 0.2344\n",
            "Epoch 65/200\n",
            "2/2 [==============================] - 0s 73ms/step - loss: 2.9990 - masked_accuracy: 0.5768 - val_loss: 5.0670 - val_masked_accuracy: 0.2500\n",
            "Epoch 66/200\n",
            "2/2 [==============================] - 0s 74ms/step - loss: 2.9560 - masked_accuracy: 0.5775 - val_loss: 5.0623 - val_masked_accuracy: 0.2266\n",
            "Epoch 67/200\n",
            "2/2 [==============================] - 0s 81ms/step - loss: 2.9519 - masked_accuracy: 0.5833 - val_loss: 5.0372 - val_masked_accuracy: 0.2344\n",
            "Epoch 68/200\n",
            "2/2 [==============================] - 0s 73ms/step - loss: 2.9192 - masked_accuracy: 0.6048 - val_loss: 5.0301 - val_masked_accuracy: 0.2500\n",
            "Epoch 69/200\n",
            "2/2 [==============================] - 0s 69ms/step - loss: 2.9013 - masked_accuracy: 0.6055 - val_loss: 5.0282 - val_masked_accuracy: 0.2500\n",
            "Epoch 70/200\n",
            "2/2 [==============================] - 0s 69ms/step - loss: 2.8605 - masked_accuracy: 0.6270 - val_loss: 5.0179 - val_masked_accuracy: 0.2422\n",
            "Epoch 71/200\n",
            "2/2 [==============================] - 0s 69ms/step - loss: 2.8510 - masked_accuracy: 0.5983 - val_loss: 5.0018 - val_masked_accuracy: 0.2422\n",
            "Epoch 72/200\n",
            "2/2 [==============================] - 0s 87ms/step - loss: 2.8146 - masked_accuracy: 0.6016 - val_loss: 5.0121 - val_masked_accuracy: 0.2422\n",
            "Epoch 73/200\n",
            "2/2 [==============================] - 0s 73ms/step - loss: 2.7720 - masked_accuracy: 0.6341 - val_loss: 5.0203 - val_masked_accuracy: 0.2344\n",
            "Epoch 74/200\n",
            "2/2 [==============================] - 0s 67ms/step - loss: 2.7805 - masked_accuracy: 0.6354 - val_loss: 5.0165 - val_masked_accuracy: 0.2500\n",
            "Epoch 75/200\n",
            "2/2 [==============================] - 0s 68ms/step - loss: 2.7143 - masked_accuracy: 0.6419 - val_loss: 5.0007 - val_masked_accuracy: 0.2500\n",
            "Epoch 76/200\n",
            "2/2 [==============================] - 0s 79ms/step - loss: 2.7041 - masked_accuracy: 0.6484 - val_loss: 4.9966 - val_masked_accuracy: 0.2422\n",
            "Epoch 77/200\n",
            "2/2 [==============================] - 0s 76ms/step - loss: 2.6562 - masked_accuracy: 0.6621 - val_loss: 4.9963 - val_masked_accuracy: 0.2422\n",
            "Epoch 78/200\n",
            "2/2 [==============================] - 0s 66ms/step - loss: 2.6288 - masked_accuracy: 0.6810 - val_loss: 4.9900 - val_masked_accuracy: 0.2500\n",
            "Epoch 79/200\n",
            "2/2 [==============================] - 0s 72ms/step - loss: 2.5646 - masked_accuracy: 0.7194 - val_loss: 4.9811 - val_masked_accuracy: 0.2656\n",
            "Epoch 80/200\n",
            "2/2 [==============================] - 0s 88ms/step - loss: 2.5569 - masked_accuracy: 0.7005 - val_loss: 4.9757 - val_masked_accuracy: 0.2500\n",
            "Epoch 81/200\n",
            "2/2 [==============================] - 0s 70ms/step - loss: 2.5559 - masked_accuracy: 0.6615 - val_loss: 4.9819 - val_masked_accuracy: 0.2500\n",
            "Epoch 82/200\n",
            "2/2 [==============================] - 0s 67ms/step - loss: 2.5022 - masked_accuracy: 0.7109 - val_loss: 4.9985 - val_masked_accuracy: 0.2422\n",
            "Epoch 83/200\n",
            "2/2 [==============================] - 0s 75ms/step - loss: 2.4774 - masked_accuracy: 0.7266 - val_loss: 5.0023 - val_masked_accuracy: 0.2422\n",
            "Epoch 84/200\n",
            "2/2 [==============================] - 0s 75ms/step - loss: 2.4556 - masked_accuracy: 0.7409 - val_loss: 4.9813 - val_masked_accuracy: 0.2656\n",
            "Epoch 85/200\n",
            "2/2 [==============================] - 0s 69ms/step - loss: 2.3882 - masked_accuracy: 0.7467 - val_loss: 4.9620 - val_masked_accuracy: 0.2422\n",
            "Epoch 86/200\n",
            "2/2 [==============================] - 0s 78ms/step - loss: 2.3945 - masked_accuracy: 0.7552 - val_loss: 4.9586 - val_masked_accuracy: 0.2422\n",
            "Epoch 87/200\n",
            "2/2 [==============================] - 0s 76ms/step - loss: 2.3812 - masked_accuracy: 0.7546 - val_loss: 4.9722 - val_masked_accuracy: 0.2578\n",
            "Epoch 88/200\n",
            "2/2 [==============================] - 0s 71ms/step - loss: 2.3676 - masked_accuracy: 0.7083 - val_loss: 4.9702 - val_masked_accuracy: 0.2578\n",
            "Epoch 89/200\n",
            "2/2 [==============================] - 0s 69ms/step - loss: 2.3551 - masked_accuracy: 0.7617 - val_loss: 4.9445 - val_masked_accuracy: 0.2422\n",
            "Epoch 90/200\n",
            "2/2 [==============================] - 0s 74ms/step - loss: 2.3002 - masked_accuracy: 0.7923 - val_loss: 4.9441 - val_masked_accuracy: 0.2422\n",
            "Epoch 91/200\n",
            "2/2 [==============================] - 0s 74ms/step - loss: 2.2550 - masked_accuracy: 0.7845 - val_loss: 4.9440 - val_masked_accuracy: 0.2500\n",
            "Epoch 92/200\n",
            "2/2 [==============================] - 0s 68ms/step - loss: 2.2272 - masked_accuracy: 0.7865 - val_loss: 4.9521 - val_masked_accuracy: 0.2578\n",
            "Epoch 93/200\n",
            "2/2 [==============================] - 0s 68ms/step - loss: 2.1954 - masked_accuracy: 0.7878 - val_loss: 4.9591 - val_masked_accuracy: 0.2500\n",
            "Epoch 94/200\n",
            "2/2 [==============================] - 0s 69ms/step - loss: 2.2073 - masked_accuracy: 0.7839 - val_loss: 4.9560 - val_masked_accuracy: 0.2578\n",
            "Epoch 95/200\n",
            "2/2 [==============================] - 0s 72ms/step - loss: 2.1424 - masked_accuracy: 0.7806 - val_loss: 4.9363 - val_masked_accuracy: 0.2578\n",
            "Epoch 96/200\n",
            "2/2 [==============================] - 0s 68ms/step - loss: 2.1015 - masked_accuracy: 0.8372 - val_loss: 4.9247 - val_masked_accuracy: 0.2656\n",
            "Epoch 97/200\n",
            "2/2 [==============================] - 0s 70ms/step - loss: 2.1085 - masked_accuracy: 0.8053 - val_loss: 4.9347 - val_masked_accuracy: 0.2656\n",
            "Epoch 98/200\n",
            "2/2 [==============================] - 0s 75ms/step - loss: 2.1133 - masked_accuracy: 0.7891 - val_loss: 4.9357 - val_masked_accuracy: 0.2578\n",
            "Epoch 99/200\n",
            "2/2 [==============================] - 0s 71ms/step - loss: 2.0403 - masked_accuracy: 0.8242 - val_loss: 4.9219 - val_masked_accuracy: 0.2500\n",
            "Epoch 100/200\n",
            "2/2 [==============================] - 0s 71ms/step - loss: 2.0038 - masked_accuracy: 0.8483 - val_loss: 4.9105 - val_masked_accuracy: 0.2500\n",
            "Epoch 101/200\n",
            "2/2 [==============================] - 0s 75ms/step - loss: 2.0073 - masked_accuracy: 0.8548 - val_loss: 4.9201 - val_masked_accuracy: 0.2500\n",
            "Epoch 102/200\n",
            "2/2 [==============================] - 0s 72ms/step - loss: 1.9429 - masked_accuracy: 0.8424 - val_loss: 4.9325 - val_masked_accuracy: 0.2656\n",
            "Epoch 103/200\n",
            "2/2 [==============================] - 0s 76ms/step - loss: 1.9319 - masked_accuracy: 0.8158 - val_loss: 4.9203 - val_masked_accuracy: 0.2656\n",
            "Epoch 104/200\n",
            "2/2 [==============================] - 0s 69ms/step - loss: 1.9222 - masked_accuracy: 0.8288 - val_loss: 4.8956 - val_masked_accuracy: 0.2500\n",
            "Epoch 105/200\n",
            "2/2 [==============================] - 0s 71ms/step - loss: 1.8833 - masked_accuracy: 0.8743 - val_loss: 4.8960 - val_masked_accuracy: 0.2578\n",
            "Epoch 106/200\n",
            "2/2 [==============================] - 0s 72ms/step - loss: 1.8332 - masked_accuracy: 0.8770 - val_loss: 4.9077 - val_masked_accuracy: 0.2656\n",
            "Epoch 107/200\n",
            "2/2 [==============================] - 0s 70ms/step - loss: 1.8163 - masked_accuracy: 0.8613 - val_loss: 4.9116 - val_masked_accuracy: 0.2500\n",
            "Epoch 108/200\n",
            "2/2 [==============================] - 0s 76ms/step - loss: 1.7890 - masked_accuracy: 0.8698 - val_loss: 4.9054 - val_masked_accuracy: 0.2578\n",
            "Epoch 109/200\n",
            "2/2 [==============================] - 0s 84ms/step - loss: 1.7997 - masked_accuracy: 0.8770 - val_loss: 4.8873 - val_masked_accuracy: 0.2500\n",
            "Epoch 110/200\n",
            "2/2 [==============================] - 0s 69ms/step - loss: 1.7737 - masked_accuracy: 0.8704 - val_loss: 4.8998 - val_masked_accuracy: 0.2656\n",
            "Epoch 111/200\n",
            "2/2 [==============================] - 0s 76ms/step - loss: 1.7350 - masked_accuracy: 0.8796 - val_loss: 4.9190 - val_masked_accuracy: 0.2734\n",
            "Epoch 112/200\n",
            "2/2 [==============================] - 0s 69ms/step - loss: 1.7160 - masked_accuracy: 0.8809 - val_loss: 4.9156 - val_masked_accuracy: 0.2578\n",
            "Epoch 113/200\n",
            "2/2 [==============================] - 0s 79ms/step - loss: 1.6707 - masked_accuracy: 0.9023 - val_loss: 4.9081 - val_masked_accuracy: 0.2656\n",
            "Epoch 114/200\n",
            "2/2 [==============================] - 0s 70ms/step - loss: 1.6485 - masked_accuracy: 0.8770 - val_loss: 4.8872 - val_masked_accuracy: 0.2500\n",
            "Epoch 115/200\n",
            "2/2 [==============================] - 0s 71ms/step - loss: 1.6351 - masked_accuracy: 0.8939 - val_loss: 4.8999 - val_masked_accuracy: 0.2500\n",
            "Epoch 116/200\n",
            "2/2 [==============================] - 0s 74ms/step - loss: 1.6383 - masked_accuracy: 0.8737 - val_loss: 4.9120 - val_masked_accuracy: 0.2500\n",
            "Epoch 117/200\n",
            "2/2 [==============================] - 0s 70ms/step - loss: 1.5668 - masked_accuracy: 0.8945 - val_loss: 4.9036 - val_masked_accuracy: 0.2656\n",
            "Epoch 118/200\n",
            "2/2 [==============================] - 0s 73ms/step - loss: 1.5391 - masked_accuracy: 0.9017 - val_loss: 4.8897 - val_masked_accuracy: 0.2656\n",
            "Epoch 119/200\n",
            "2/2 [==============================] - 0s 80ms/step - loss: 1.5402 - masked_accuracy: 0.8932 - val_loss: 4.8664 - val_masked_accuracy: 0.2578\n",
            "Epoch 120/200\n",
            "2/2 [==============================] - 0s 73ms/step - loss: 1.5328 - masked_accuracy: 0.9069 - val_loss: 4.8633 - val_masked_accuracy: 0.2500\n",
            "Epoch 121/200\n",
            "2/2 [==============================] - 0s 68ms/step - loss: 1.5243 - masked_accuracy: 0.9017 - val_loss: 4.8810 - val_masked_accuracy: 0.2656\n",
            "Epoch 122/200\n",
            "2/2 [==============================] - 0s 71ms/step - loss: 1.4662 - masked_accuracy: 0.9232 - val_loss: 4.8918 - val_masked_accuracy: 0.2656\n",
            "Epoch 123/200\n",
            "2/2 [==============================] - 0s 72ms/step - loss: 1.4831 - masked_accuracy: 0.9062 - val_loss: 4.8834 - val_masked_accuracy: 0.2734\n",
            "Epoch 124/200\n",
            "2/2 [==============================] - 0s 81ms/step - loss: 1.4413 - masked_accuracy: 0.9076 - val_loss: 4.8747 - val_masked_accuracy: 0.2578\n",
            "Epoch 125/200\n",
            "2/2 [==============================] - 0s 71ms/step - loss: 1.4055 - masked_accuracy: 0.9271 - val_loss: 4.8920 - val_masked_accuracy: 0.2656\n",
            "Epoch 126/200\n",
            "2/2 [==============================] - 0s 70ms/step - loss: 1.3842 - masked_accuracy: 0.9277 - val_loss: 4.9231 - val_masked_accuracy: 0.2656\n",
            "Epoch 127/200\n",
            "2/2 [==============================] - 0s 71ms/step - loss: 1.3406 - masked_accuracy: 0.9193 - val_loss: 4.9146 - val_masked_accuracy: 0.2656\n",
            "Epoch 128/200\n",
            "2/2 [==============================] - 0s 75ms/step - loss: 1.3514 - masked_accuracy: 0.9271 - val_loss: 4.9113 - val_masked_accuracy: 0.2656\n",
            "Epoch 129/200\n",
            "2/2 [==============================] - 0s 70ms/step - loss: 1.2924 - masked_accuracy: 0.9342 - val_loss: 4.9035 - val_masked_accuracy: 0.2656\n",
            "Epoch 130/200\n",
            "2/2 [==============================] - 0s 77ms/step - loss: 1.3134 - masked_accuracy: 0.9232 - val_loss: 4.8984 - val_masked_accuracy: 0.2500\n",
            "Epoch 131/200\n",
            "2/2 [==============================] - 0s 74ms/step - loss: 1.2504 - masked_accuracy: 0.9421 - val_loss: 4.9120 - val_masked_accuracy: 0.2578\n",
            "Epoch 132/200\n",
            "2/2 [==============================] - 0s 73ms/step - loss: 1.2695 - masked_accuracy: 0.9408 - val_loss: 4.9151 - val_masked_accuracy: 0.2656\n",
            "Epoch 133/200\n",
            "2/2 [==============================] - 0s 127ms/step - loss: 1.2326 - masked_accuracy: 0.9492 - val_loss: 4.9250 - val_masked_accuracy: 0.2656\n",
            "Epoch 134/200\n",
            "2/2 [==============================] - 0s 152ms/step - loss: 1.2204 - masked_accuracy: 0.9297 - val_loss: 4.9162 - val_masked_accuracy: 0.2500\n",
            "Epoch 135/200\n",
            "2/2 [==============================] - 0s 104ms/step - loss: 1.1952 - masked_accuracy: 0.9427 - val_loss: 4.8993 - val_masked_accuracy: 0.2578\n",
            "Epoch 136/200\n",
            "2/2 [==============================] - 0s 125ms/step - loss: 1.2179 - masked_accuracy: 0.9447 - val_loss: 4.9025 - val_masked_accuracy: 0.2500\n",
            "Epoch 137/200\n",
            "2/2 [==============================] - 0s 121ms/step - loss: 1.1543 - masked_accuracy: 0.9368 - val_loss: 4.9239 - val_masked_accuracy: 0.2500\n",
            "Epoch 138/200\n",
            "2/2 [==============================] - 0s 145ms/step - loss: 1.1302 - masked_accuracy: 0.9479 - val_loss: 4.9208 - val_masked_accuracy: 0.2500\n",
            "Epoch 139/200\n",
            "2/2 [==============================] - 0s 147ms/step - loss: 1.1126 - masked_accuracy: 0.9629 - val_loss: 4.9158 - val_masked_accuracy: 0.2500\n",
            "Epoch 140/200\n",
            "2/2 [==============================] - 0s 155ms/step - loss: 1.0895 - masked_accuracy: 0.9583 - val_loss: 4.9033 - val_masked_accuracy: 0.2500\n",
            "Epoch 141/200\n",
            "2/2 [==============================] - 0s 111ms/step - loss: 1.0519 - masked_accuracy: 0.9570 - val_loss: 4.9203 - val_masked_accuracy: 0.2500\n",
            "Epoch 142/200\n",
            "2/2 [==============================] - 0s 148ms/step - loss: 1.0377 - masked_accuracy: 0.9505 - val_loss: 4.9398 - val_masked_accuracy: 0.2500\n",
            "Epoch 143/200\n",
            "2/2 [==============================] - 0s 159ms/step - loss: 1.0399 - masked_accuracy: 0.9583 - val_loss: 4.9290 - val_masked_accuracy: 0.2500\n",
            "Epoch 144/200\n",
            "2/2 [==============================] - 0s 97ms/step - loss: 1.0113 - masked_accuracy: 0.9518 - val_loss: 4.9019 - val_masked_accuracy: 0.2578\n",
            "Epoch 145/200\n",
            "2/2 [==============================] - 0s 75ms/step - loss: 1.0182 - masked_accuracy: 0.9648 - val_loss: 4.9170 - val_masked_accuracy: 0.2500\n",
            "Epoch 146/200\n",
            "2/2 [==============================] - 0s 77ms/step - loss: 0.9809 - masked_accuracy: 0.9740 - val_loss: 4.9485 - val_masked_accuracy: 0.2500\n",
            "Epoch 147/200\n",
            "2/2 [==============================] - 0s 89ms/step - loss: 0.9489 - masked_accuracy: 0.9596 - val_loss: 4.9447 - val_masked_accuracy: 0.2500\n",
            "Epoch 148/200\n",
            "2/2 [==============================] - 0s 125ms/step - loss: 0.9425 - masked_accuracy: 0.9655 - val_loss: 4.9333 - val_masked_accuracy: 0.2500\n",
            "Epoch 149/200\n",
            "2/2 [==============================] - 0s 77ms/step - loss: 0.9347 - masked_accuracy: 0.9609 - val_loss: 4.9381 - val_masked_accuracy: 0.2500\n",
            "Epoch 150/200\n",
            "2/2 [==============================] - 0s 71ms/step - loss: 0.9110 - masked_accuracy: 0.9707 - val_loss: 4.9549 - val_masked_accuracy: 0.2500\n",
            "Epoch 151/200\n",
            "2/2 [==============================] - 0s 74ms/step - loss: 0.8991 - masked_accuracy: 0.9668 - val_loss: 4.9770 - val_masked_accuracy: 0.2500\n",
            "Epoch 152/200\n",
            "2/2 [==============================] - 0s 71ms/step - loss: 0.8645 - masked_accuracy: 0.9688 - val_loss: 4.9627 - val_masked_accuracy: 0.2500\n",
            "Epoch 153/200\n",
            "2/2 [==============================] - 0s 74ms/step - loss: 0.8457 - masked_accuracy: 0.9779 - val_loss: 4.9331 - val_masked_accuracy: 0.2578\n",
            "Epoch 154/200\n",
            "2/2 [==============================] - 0s 74ms/step - loss: 0.8387 - masked_accuracy: 0.9746 - val_loss: 4.9248 - val_masked_accuracy: 0.2500\n",
            "Epoch 155/200\n",
            "2/2 [==============================] - 0s 80ms/step - loss: 0.8351 - masked_accuracy: 0.9714 - val_loss: 4.9352 - val_masked_accuracy: 0.2500\n",
            "Epoch 156/200\n",
            "2/2 [==============================] - 0s 70ms/step - loss: 0.8030 - masked_accuracy: 0.9811 - val_loss: 4.9527 - val_masked_accuracy: 0.2656\n",
            "Epoch 157/200\n",
            "2/2 [==============================] - 0s 76ms/step - loss: 0.7981 - masked_accuracy: 0.9759 - val_loss: 4.9407 - val_masked_accuracy: 0.2500\n",
            "Epoch 158/200\n",
            "2/2 [==============================] - 0s 74ms/step - loss: 0.7753 - masked_accuracy: 0.9694 - val_loss: 4.9342 - val_masked_accuracy: 0.2500\n",
            "Epoch 159/200\n",
            "2/2 [==============================] - 0s 69ms/step - loss: 0.7561 - masked_accuracy: 0.9824 - val_loss: 4.9594 - val_masked_accuracy: 0.2500\n",
            "Epoch 160/200\n",
            "2/2 [==============================] - 0s 80ms/step - loss: 0.7460 - masked_accuracy: 0.9674 - val_loss: 4.9717 - val_masked_accuracy: 0.2500\n",
            "Epoch 161/200\n",
            "2/2 [==============================] - 0s 73ms/step - loss: 0.7351 - masked_accuracy: 0.9733 - val_loss: 4.9487 - val_masked_accuracy: 0.2500\n",
            "Epoch 162/200\n",
            "2/2 [==============================] - 0s 83ms/step - loss: 0.7175 - masked_accuracy: 0.9772 - val_loss: 4.9347 - val_masked_accuracy: 0.2578\n",
            "Epoch 163/200\n",
            "2/2 [==============================] - 0s 72ms/step - loss: 0.7161 - masked_accuracy: 0.9688 - val_loss: 4.9605 - val_masked_accuracy: 0.2578\n",
            "Epoch 164/200\n",
            "2/2 [==============================] - 0s 69ms/step - loss: 0.6914 - masked_accuracy: 0.9766 - val_loss: 4.9872 - val_masked_accuracy: 0.2500\n",
            "Epoch 165/200\n",
            "2/2 [==============================] - 0s 71ms/step - loss: 0.6809 - masked_accuracy: 0.9766 - val_loss: 4.9759 - val_masked_accuracy: 0.2500\n",
            "Epoch 166/200\n",
            "2/2 [==============================] - 0s 76ms/step - loss: 0.6342 - masked_accuracy: 0.9772 - val_loss: 4.9792 - val_masked_accuracy: 0.2500\n",
            "Epoch 167/200\n",
            "2/2 [==============================] - 0s 72ms/step - loss: 0.6326 - masked_accuracy: 0.9772 - val_loss: 5.0042 - val_masked_accuracy: 0.2500\n",
            "Epoch 168/200\n",
            "2/2 [==============================] - 0s 69ms/step - loss: 0.6294 - masked_accuracy: 0.9811 - val_loss: 5.0052 - val_masked_accuracy: 0.2500\n",
            "Epoch 169/200\n",
            "2/2 [==============================] - 0s 70ms/step - loss: 0.6254 - masked_accuracy: 0.9831 - val_loss: 4.9947 - val_masked_accuracy: 0.2500\n",
            "Epoch 170/200\n",
            "2/2 [==============================] - 0s 82ms/step - loss: 0.6050 - masked_accuracy: 0.9772 - val_loss: 4.9878 - val_masked_accuracy: 0.2500\n",
            "Epoch 171/200\n",
            "2/2 [==============================] - 0s 72ms/step - loss: 0.6134 - masked_accuracy: 0.9844 - val_loss: 5.0169 - val_masked_accuracy: 0.2500\n",
            "Epoch 172/200\n",
            "2/2 [==============================] - 0s 69ms/step - loss: 0.5779 - masked_accuracy: 0.9850 - val_loss: 5.0335 - val_masked_accuracy: 0.2500\n",
            "Epoch 173/200\n",
            "2/2 [==============================] - 0s 71ms/step - loss: 0.5654 - masked_accuracy: 0.9896 - val_loss: 5.0278 - val_masked_accuracy: 0.2500\n",
            "Epoch 174/200\n",
            "2/2 [==============================] - 0s 67ms/step - loss: 0.5551 - masked_accuracy: 0.9766 - val_loss: 4.9879 - val_masked_accuracy: 0.2500\n",
            "Epoch 175/200\n",
            "2/2 [==============================] - 0s 70ms/step - loss: 0.5379 - masked_accuracy: 0.9811 - val_loss: 4.9854 - val_masked_accuracy: 0.2578\n",
            "Epoch 176/200\n",
            "2/2 [==============================] - 0s 76ms/step - loss: 0.5595 - masked_accuracy: 0.9837 - val_loss: 5.0161 - val_masked_accuracy: 0.2500\n",
            "Epoch 177/200\n",
            "2/2 [==============================] - 0s 73ms/step - loss: 0.5139 - masked_accuracy: 0.9902 - val_loss: 5.0312 - val_masked_accuracy: 0.2500\n",
            "Epoch 178/200\n",
            "2/2 [==============================] - 0s 77ms/step - loss: 0.5048 - masked_accuracy: 0.9896 - val_loss: 5.0062 - val_masked_accuracy: 0.2500\n",
            "Epoch 179/200\n",
            "2/2 [==============================] - 0s 79ms/step - loss: 0.5093 - masked_accuracy: 0.9850 - val_loss: 5.0097 - val_masked_accuracy: 0.2500\n",
            "Epoch 180/200\n",
            "2/2 [==============================] - 0s 73ms/step - loss: 0.4852 - masked_accuracy: 0.9850 - val_loss: 5.0336 - val_masked_accuracy: 0.2500\n",
            "Epoch 181/200\n",
            "2/2 [==============================] - 0s 73ms/step - loss: 0.4710 - masked_accuracy: 0.9889 - val_loss: 5.0512 - val_masked_accuracy: 0.2500\n",
            "Epoch 182/200\n",
            "2/2 [==============================] - 0s 75ms/step - loss: 0.4855 - masked_accuracy: 0.9831 - val_loss: 5.0457 - val_masked_accuracy: 0.2500\n",
            "Epoch 183/200\n",
            "2/2 [==============================] - 0s 75ms/step - loss: 0.4522 - masked_accuracy: 0.9896 - val_loss: 5.0321 - val_masked_accuracy: 0.2578\n",
            "Epoch 184/200\n",
            "2/2 [==============================] - 0s 70ms/step - loss: 0.4505 - masked_accuracy: 0.9896 - val_loss: 5.0238 - val_masked_accuracy: 0.2578\n",
            "Epoch 185/200\n",
            "2/2 [==============================] - 0s 73ms/step - loss: 0.4431 - masked_accuracy: 0.9850 - val_loss: 5.0333 - val_masked_accuracy: 0.2500\n",
            "Epoch 186/200\n",
            "2/2 [==============================] - 0s 83ms/step - loss: 0.4379 - masked_accuracy: 0.9915 - val_loss: 5.0647 - val_masked_accuracy: 0.2500\n",
            "Epoch 187/200\n",
            "2/2 [==============================] - 0s 70ms/step - loss: 0.4114 - masked_accuracy: 0.9850 - val_loss: 5.0619 - val_masked_accuracy: 0.2500\n",
            "Epoch 188/200\n",
            "2/2 [==============================] - 0s 70ms/step - loss: 0.4108 - masked_accuracy: 0.9876 - val_loss: 5.0560 - val_masked_accuracy: 0.2500\n",
            "Epoch 189/200\n",
            "2/2 [==============================] - 0s 66ms/step - loss: 0.4082 - masked_accuracy: 0.9857 - val_loss: 5.0556 - val_masked_accuracy: 0.2500\n",
            "Epoch 190/200\n",
            "2/2 [==============================] - 0s 77ms/step - loss: 0.3829 - masked_accuracy: 0.9850 - val_loss: 5.0617 - val_masked_accuracy: 0.2500\n",
            "Epoch 191/200\n",
            "2/2 [==============================] - 0s 72ms/step - loss: 0.3913 - masked_accuracy: 0.9850 - val_loss: 5.0788 - val_masked_accuracy: 0.2500\n",
            "Epoch 192/200\n",
            "2/2 [==============================] - 0s 71ms/step - loss: 0.3645 - masked_accuracy: 0.9915 - val_loss: 5.0791 - val_masked_accuracy: 0.2578\n",
            "Epoch 193/200\n",
            "2/2 [==============================] - 0s 70ms/step - loss: 0.3666 - masked_accuracy: 0.9850 - val_loss: 5.0680 - val_masked_accuracy: 0.2500\n",
            "Epoch 194/200\n",
            "2/2 [==============================] - 0s 70ms/step - loss: 0.3559 - masked_accuracy: 0.9889 - val_loss: 5.0625 - val_masked_accuracy: 0.2500\n",
            "Epoch 195/200\n",
            "2/2 [==============================] - 0s 71ms/step - loss: 0.3553 - masked_accuracy: 0.9870 - val_loss: 5.0703 - val_masked_accuracy: 0.2578\n",
            "Epoch 196/200\n",
            "2/2 [==============================] - 0s 66ms/step - loss: 0.3446 - masked_accuracy: 0.9831 - val_loss: 5.0782 - val_masked_accuracy: 0.2578\n",
            "Epoch 197/200\n",
            "2/2 [==============================] - 0s 72ms/step - loss: 0.3367 - masked_accuracy: 0.9889 - val_loss: 5.0628 - val_masked_accuracy: 0.2578\n",
            "Epoch 198/200\n",
            "2/2 [==============================] - 0s 73ms/step - loss: 0.3189 - masked_accuracy: 0.9876 - val_loss: 5.0594 - val_masked_accuracy: 0.2578\n",
            "Epoch 199/200\n",
            "2/2 [==============================] - 0s 73ms/step - loss: 0.3172 - masked_accuracy: 0.9889 - val_loss: 5.0437 - val_masked_accuracy: 0.2500\n",
            "Epoch 200/200\n",
            "2/2 [==============================] - 0s 87ms/step - loss: 0.3076 - masked_accuracy: 0.9889 - val_loss: 5.0506 - val_masked_accuracy: 0.2500\n"
          ]
        }
      ]
    },
    {
      "cell_type": "markdown",
      "source": [
        "## **6. Đánh giá và trực quan hóa**"
      ],
      "metadata": {
        "id": "UgNNy8JUbfBj"
      }
    },
    {
      "cell_type": "code",
      "source": [
        "# Đánh giá mô hình trên tập test\n",
        "test_evaluation = transformer.evaluate(test_ds)"
      ],
      "metadata": {
        "colab": {
          "base_uri": "https://localhost:8080/"
        },
        "id": "b3TlfKI5rc7B",
        "outputId": "1ff6d889-b9e6-4493-8ecc-a72d0e7b092f"
      },
      "execution_count": null,
      "outputs": [
        {
          "output_type": "stream",
          "name": "stdout",
          "text": [
            "1/1 [==============================] - 0s 35ms/step - loss: 5.9656 - masked_accuracy: 0.1528\n"
          ]
        }
      ]
    },
    {
      "cell_type": "code",
      "source": [
        "# Đọc các kết quả huấn luyện mô hình qua từng epoch\n",
        "train_loss, train_acc = history.history['loss'], history.history['masked_accuracy'] # Đọc thông tin loss, acc trên tập train\n",
        "val_loss, val_acc = history.history['val_loss'], history.history['val_masked_accuracy'] # Đọc thông tin loss, acc trên tập val\n",
        "\n",
        "plt.figure(figsize=(10, 10)) # Cài đặt kích thước khung ảnh\n",
        "\n",
        "plt.subplot(2, 2, 1) # Khởi tạo khung ảnh cho training loss\n",
        "plt.xlabel('Epochs') # Hiển thị tên trục hoành là 'Epochs'\n",
        "plt.ylabel('Loss') # Hiển thị tên trục tung là 'Loss'\n",
        "plt.title('Training loss') # Hiển thị title của khung ảnh hiện tại là 'Training Loss'\n",
        "plt.plot(train_loss, color='green') # Vẽ đường giá trị loss trên tập train qua từng epoch (đường vẽ màu đỏ)\n",
        "\n",
        "plt.subplot(2, 2, 2) # Khởi tạo khung ảnh cho training acc\n",
        "plt.xlabel('Epochs') # Hiển thị tên trục hoành là 'Epochs'\n",
        "plt.ylabel('Accuracy') # Hiển thị tên trục tung là 'Accuracy'\n",
        "plt.title('Training accuracy') # Hiển thị title của khung ảnh hiện tại là 'Training accuracy'\n",
        "plt.plot(train_acc, color='orange') # Vẽ đường giá trị accuracy trên tập train qua từng epoch (đường vẽ màu cam)\n",
        "\n",
        "plt.subplot(2, 2, 3) # Khởi tạo khung ảnh cho val loss\n",
        "plt.xlabel('Epochs') # Hiển thị tên trục hoành là 'Epochs'\n",
        "plt.ylabel('Loss') # Hiển thị tên trục tung là 'Loss'\n",
        "plt.title('Validation loss') # Hiển thị title của khung ảnh hiện tại là 'Validation loss'\n",
        "plt.plot(val_loss, color='green') # Vẽ đường giá trị loss trên tập val qua từng epoch (đường vẽ màu đỏ)\n",
        "\n",
        "plt.subplot(2, 2, 4) # Khởi tạo khung ảnh cho val acc\n",
        "plt.xlabel('Epochs') # Hiển thị tên trục hoành là 'Epochs'\n",
        "plt.ylabel('Accuracy') # Hiển thị tên trục tung là 'Accuracy'\n",
        "plt.title('Validation accuracy') # Hiển thị title của khung ảnh hiện tại là 'Validation accuracy'\n",
        "plt.plot(val_acc, color='orange') # Vẽ đường giá trị accuracy trên tập val qua từng epoch (đường vẽ màu cam)\n",
        "\n",
        "plt.show() # Hiển thị 4 khung ảnh nhỏ"
      ],
      "metadata": {
        "id": "vmMe97kpcS71",
        "colab": {
          "base_uri": "https://localhost:8080/",
          "height": 621
        },
        "outputId": "8974cec3-bc21-41d1-a6c0-3ad54969b96d"
      },
      "execution_count": null,
      "outputs": [
        {
          "output_type": "display_data",
          "data": {
            "text/plain": [
              "<Figure size 720x720 with 4 Axes>"
            ],
            "image/png": "[encoded data removed]"
          },
          "metadata": {
            "needs_background": "light"
          }
        }
      ]
    },
    {
      "cell_type": "code",
      "source": [
        "perplexities = []\n",
        "bleu_scores = []\n",
        "for sample in val_ds.take(1):\n",
        "    X_try, y_try = sample\n",
        "    y_pred = transformer(X_try)\n",
        "    batch_perplexity = compute_perplexity(y_pred, y_try)\n",
        "    batch_bleu_score = compute_bleu(y_pred, y_try)\n",
        "\n",
        "    perplexities.append(batch_perplexity)\n",
        "    bleu_scores.append(batch_bleu_score)\n",
        "\n",
        "    # print(f'Perplexity: {batch_perplexity}')\n",
        "    # print(f'BLEU score: {batch_bleu_score}')\n",
        "\n",
        "print(f'Perplexity: {sum(perplexities) / len(perplexities)}')\n",
        "print(f'BLEU score: {sum(bleu_scores) / len(bleu_scores)}')"
      ],
      "metadata": {
        "id": "OMO_szhoIxcq",
        "colab": {
          "base_uri": "https://localhost:8080/"
        },
        "outputId": "ee3805ef-985a-4ca4-89a8-bd2d263d3c48"
      },
      "execution_count": null,
      "outputs": [
        {
          "output_type": "stream",
          "name": "stdout",
          "text": [
            "Perplexity: 247.0969696044922\n",
            "BLEU score: 0.310542000227056\n"
          ]
        }
      ]
    },
    {
      "cell_type": "markdown",
      "source": [
        "## **7. Inference**"
      ],
      "metadata": {
        "id": "8pSQL9BO0sry"
      }
    },
    {
      "cell_type": "code",
      "source": [
        "def generate_text(\n",
        "    generator_model, \n",
        "    tokenizer,\n",
        "    input_string\n",
        "    ):\n",
        "    \n",
        "    encoder_input_string = text_normalize(input_string) \n",
        "    encoder_input_sequence = tokenizer.texts_to_sequences([encoder_input_string])\n",
        "    encoder_input_padded_sequence = pad_sequences(encoder_input_sequence, maxlen=MAX_SEQ_LEN, truncating='pre', padding='post')[0]\n",
        "    encoder_input_padded_sequence = np.expand_dims(encoder_input_padded_sequence, axis=0)\n",
        "\n",
        "    decoder_input_string = '<start>'\n",
        "    decoder_input_sequence = tokenizer.texts_to_sequences([decoder_input_string])\n",
        "    decoder_input_padded_sequence = pad_sequences(decoder_input_sequence, maxlen=MAX_SEQ_LEN, truncating='pre', padding='post')[0]\n",
        "    start = decoder_input_padded_sequence[0][tf.newaxis]\n",
        "    end = decoder_input_padded_sequence[1][tf.newaxis]\n",
        "    decoder_input_padded_sequence = np.expand_dims(decoder_input_padded_sequence, axis=0)\n",
        "\n",
        "    output_array = tf.TensorArray(dtype=tf.int64, size=0, dynamic_size=True)\n",
        "    output_array = output_array.write(0, start)\n",
        "\n",
        "    for i in tf.range(MAX_SEQ_LEN):\n",
        "        output = tf.transpose(output_array.stack())\n",
        "        predictions = generator_model((encoder_input_padded_sequence, output), training=False)\n",
        "\n",
        "        # Select the last token from the `seq_len` dimension.\n",
        "        predictions = predictions[:, -1:, :]  # Shape `(batch_size, 1, vocab_size)`.\n",
        "\n",
        "        predicted_id = tf.argmax(predictions, axis=-1)\n",
        "\n",
        "        # Concatenate the `predicted_id` to the output which is given to the\n",
        "        # decoder as its input.\n",
        "        output_array = output_array.write(i+1, predicted_id[0])\n",
        "\n",
        "        if predicted_id == end:\n",
        "            break\n",
        "\n",
        "    output = tf.transpose(output_array.stack())\n",
        "    output_tokens = output.numpy()\n",
        "    # The output shape is `(1, tokens)`.\n",
        "    text = tokenizer.sequences_to_texts(output_tokens)[0]  # Shape: `()`.\n",
        "\n",
        "\n",
        "    # `tf.function` prevents us from using the attention_weights that were\n",
        "    # calculated on the last iteration of the loop.\n",
        "    # So, recalculate them outside the loop.\n",
        "    generator_model([decoder_input_padded_sequence, output[:, :-1]], training=False)\n",
        "    attention_weights = generator_model.decoder.last_attn_scores\n",
        "\n",
        "    return text, output_tokens, attention_weights"
      ],
      "metadata": {
        "id": "djBwR4Pd0vTu"
      },
      "execution_count": null,
      "outputs": []
    },
    {
      "cell_type": "code",
      "source": [
        "n_sentences = 7\n",
        "results = ['Đêm nhớ nhà trầm tư uất hận']\n",
        "for idx in range(n_sentences + 1):\n",
        "    input_str = results[idx]\n",
        "    text, output_tokens, attention_weights = generate_text(\n",
        "        transformer, \n",
        "        tokenizer,\n",
        "        input_str\n",
        "    )\n",
        "    results.append(text.replace('<start>', '').replace('<end>', ''))\n",
        "\n",
        "print('\\n'.join(results))"
      ],
      "metadata": {
        "colab": {
          "base_uri": "https://localhost:8080/"
        },
        "id": "MkCZnhJGZGws",
        "outputId": "b1d7616d-a769-4368-fead-07c1e9e6e654"
      },
      "execution_count": null,
      "outputs": [
        {
          "output_type": "stream",
          "name": "stdout",
          "text": [
            "Đêm nhớ nhà trầm tư uất hận\n",
            " tương tư mơ về trời liên hoa  \n",
            " dặm ngàn liễu khuất với sương che  \n",
            " yêu anh trả dứt nợ đời sau  \n",
            " em bước vào lao đao nhịp guốc  \n",
            " vẫn chưa ra khỏi giấc chiêm bao  \n",
            " hãy giẫm đời nhau cho hoang phế  \n",
            " cho một lần em biết đớn đau  \n",
            " anh đã trót hư hao lãng phí  \n"
          ]
        }
      ]
    },
    {
      "cell_type": "code",
      "source": [
        "transformer.save_weights('lam_tho_7chu.h5')\n"
      ],
      "metadata": {
        "id": "DxyCry2iWTDv"
      },
      "execution_count": null,
      "outputs": []
    }
  ],
  "metadata": {
    "accelerator": "GPU",
    "colab": {
      "provenance": [],
      "collapsed_sections": [
        "iBYXRSW8at00",
        "eVEKM0CM3Awi",
        "qdPLnIH-3GYU",
        "__oPvUVi64cq",
        "wg1LFsNp78yP",
        "LFu2uQl982cm",
        "0eYYZ4gm9RRp",
        "MRooqf4a9lxq",
        "9zrYsImw914U",
        "CZdo9DtV96VM",
        "MCoNtShU-Tmn",
        "3Kb90Safbc0I"
      ],
      "include_colab_link": true
    },
    "kernelspec": {
      "display_name": "Python 3 (ipykernel)",
      "language": "python",
      "name": "python3"
    },
    "language_info": {
      "codemirror_mode": {
        "name": "ipython",
        "version": 3
      },
      "file_extension": ".py",
      "mimetype": "text/x-python",
      "name": "python",
      "nbconvert_exporter": "python",
      "pygments_lexer": "ipython3",
      "version": "3.9.7"
    },
    "gpuClass": "standard"
  },
  "nbformat": 4,
  "nbformat_minor": 0
}